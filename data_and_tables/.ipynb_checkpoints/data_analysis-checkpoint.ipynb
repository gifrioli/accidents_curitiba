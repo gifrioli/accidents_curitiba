{
 "cells": [
  {
   "cell_type": "markdown",
   "id": "9f8963ef-3056-4193-ad06-b9d305e7cab0",
   "metadata": {},
   "source": [
    "# Data analysis on numbers of bus accidents involving cyclists and pedestrians"
   ]
  },
  {
   "cell_type": "code",
   "execution_count": 29,
   "id": "d459a7d7-a7c1-42d1-bbde-287b83424a23",
   "metadata": {},
   "outputs": [
    {
     "name": "stdout",
     "output_type": "stream",
     "text": [
      "Index(['DATA', 'HORA', 'LINHA', 'EMPRESA', 'PREFIXO', 'TIPO DE ACIDENTE',\n",
      "       'SUB TIPO DE ACIDENTE', 'FERIDOS', 'MORTOS', 'LOCAL',\n",
      "       'LOCAL AUXILIAR 1', 'LOCAL AUXILIAR 2', 'Ano'],\n",
      "      dtype='object')\n"
     ]
    }
   ],
   "source": [
    "import pandas as pd\n",
    "\n",
    "df = pd.read_csv('acidentes_pedestres_todos_anos.csv')\n",
    "print(df.columns)"
   ]
  },
  {
   "cell_type": "code",
   "execution_count": 2,
   "id": "6295d6ab-7615-4238-ba31-54518fd666fb",
   "metadata": {},
   "outputs": [
    {
     "data": {
      "text/plain": [
       "Ano\n",
       "2020    26\n",
       "2021    39\n",
       "2022    38\n",
       "2023    61\n",
       "2024    62\n",
       "2025    30\n",
       "Name: FERIDOS, dtype: int64"
      ]
     },
     "execution_count": 2,
     "metadata": {},
     "output_type": "execute_result"
    }
   ],
   "source": [
    "injured_per_year = df.groupby('Ano')['FERIDOS'].sum()\n",
    "injured_per_year"
   ]
  },
  {
   "cell_type": "code",
   "execution_count": 43,
   "id": "5f14bae8-4db7-497f-afa0-52739767e633",
   "metadata": {},
   "outputs": [
    {
     "data": {
      "text/plain": [
       "np.int64(256)"
      ]
     },
     "execution_count": 43,
     "metadata": {},
     "output_type": "execute_result"
    }
   ],
   "source": [
    "injured = df['FERIDOS'].sum()\n",
    "injured"
   ]
  },
  {
   "cell_type": "code",
   "execution_count": 30,
   "id": "62fce66e-06f3-466d-944f-ff318a768101",
   "metadata": {},
   "outputs": [
    {
     "data": {
      "text/plain": [
       "Ano\n",
       "2024    63\n",
       "2023    59\n",
       "2022    40\n",
       "2021    39\n",
       "2025    29\n",
       "2020    27\n",
       "Name: count, dtype: int64"
      ]
     },
     "execution_count": 30,
     "metadata": {},
     "output_type": "execute_result"
    }
   ],
   "source": [
    "accidents_year = df['Ano'].value_counts()\n",
    "accidents_year"
   ]
  },
  {
   "cell_type": "code",
   "execution_count": 26,
   "id": "46098553-70c6-47eb-a75e-8336c99708e2",
   "metadata": {},
   "outputs": [
    {
     "data": {
      "text/plain": [
       "Ano\n",
       "2020    2\n",
       "2021    1\n",
       "2022    5\n",
       "2023    2\n",
       "2024    1\n",
       "2025    1\n",
       "Name: MORTOS, dtype: int64"
      ]
     },
     "execution_count": 26,
     "metadata": {},
     "output_type": "execute_result"
    }
   ],
   "source": [
    "deaths_per_year = df.groupby('Ano')['MORTOS'].sum()\n",
    "deaths_per_year"
   ]
  },
  {
   "cell_type": "code",
   "execution_count": 42,
   "id": "71dc229e-c8a6-420d-b9c0-d16cf8a5bf8a",
   "metadata": {},
   "outputs": [
    {
     "data": {
      "text/plain": [
       "np.int64(12)"
      ]
     },
     "execution_count": 42,
     "metadata": {},
     "output_type": "execute_result"
    }
   ],
   "source": [
    "deaths = df['MORTOS'].sum()\n",
    "deaths"
   ]
  },
  {
   "cell_type": "code",
   "execution_count": 30,
   "id": "b512c6ba-c78d-4c4e-b497-2735c021421a",
   "metadata": {},
   "outputs": [
    {
     "data": {
      "text/plain": [
       "LINHA\n",
       "203    22\n",
       "303    17\n",
       "603    16\n",
       "Name: count, dtype: int64"
      ]
     },
     "execution_count": 30,
     "metadata": {},
     "output_type": "execute_result"
    }
   ],
   "source": [
    "count_bus_lines = df['LINHA'].value_counts()\n",
    "count_bus_lines.head(3)"
   ]
  },
  {
   "cell_type": "code",
   "execution_count": 4,
   "id": "be8c6117-3a78-4dd2-8d2b-edb956e18b62",
   "metadata": {},
   "outputs": [
    {
     "data": {
      "text/plain": [
       "HORA_APENAS\n",
       "17    40\n",
       "18    30\n",
       "16    23\n",
       "08    21\n",
       "19    18\n",
       "07    18\n",
       "15    15\n",
       "13    12\n",
       "14    12\n",
       "06    11\n",
       "20    11\n",
       "12    10\n",
       "11     9\n",
       "10     8\n",
       "23     5\n",
       "21     4\n",
       "22     3\n",
       "09     3\n",
       "00     2\n",
       "01     1\n",
       "05     1\n",
       "Name: count, dtype: int64"
      ]
     },
     "execution_count": 4,
     "metadata": {},
     "output_type": "execute_result"
    }
   ],
   "source": [
    "#Contar a frequência dos horários, sem os minutos, a fim de entender os momentos com mais acidentes.\n",
    "\n",
    "df['HORA_APENAS'] = df['HORA'].str.split(':').str[0]\n",
    "\n",
    "# Contar frequências das horas\n",
    "contagem = df['HORA_APENAS'].value_counts()\n",
    "contagem"
   ]
  },
  {
   "cell_type": "code",
   "execution_count": 23,
   "id": "aeab8c0c-5165-4790-ba74-640087501ca3",
   "metadata": {},
   "outputs": [
    {
     "name": "stdout",
     "output_type": "stream",
     "text": [
      "Index(['DATA', 'HORA', 'LINHA', 'EMPRESA', 'PREFIXO', 'TIPO DE ACIDENTE',\n",
      "       'SUB TIPO DE ACIDENTE', 'FERIDOS', 'MORTOS', 'LOCAL',\n",
      "       'LOCAL AUXILIAR 1', 'LOCAL AUXILIAR 2', 'Ano'],\n",
      "      dtype='object')\n"
     ]
    }
   ],
   "source": [
    "df_cyc = pd.read_csv(r'C:\\Users\\gf120867\\Lede\\Project\\acidentes_ciclistas_todos_anos.csv')\n",
    "print(df_cyc.columns)"
   ]
  },
  {
   "cell_type": "code",
   "execution_count": 24,
   "id": "16a744e2-99ba-418d-b7c7-5ed351590b40",
   "metadata": {},
   "outputs": [
    {
     "data": {
      "text/plain": [
       "Ano\n",
       "2020    26\n",
       "2021    39\n",
       "2022    32\n",
       "2023    27\n",
       "2024    46\n",
       "2025    21\n",
       "Name: FERIDOS, dtype: int64"
      ]
     },
     "execution_count": 24,
     "metadata": {},
     "output_type": "execute_result"
    }
   ],
   "source": [
    "injured_per_year_cyc = df_cyc.groupby('Ano')['FERIDOS'].sum()\n",
    "injured_per_year_cyc"
   ]
  },
  {
   "cell_type": "code",
   "execution_count": 25,
   "id": "a189e62e-f4e2-4ce7-833e-fdfde753e459",
   "metadata": {},
   "outputs": [
    {
     "data": {
      "text/plain": [
       "np.int64(191)"
      ]
     },
     "execution_count": 25,
     "metadata": {},
     "output_type": "execute_result"
    }
   ],
   "source": [
    "injured_cyc = df_cyc['FERIDOS'].sum()\n",
    "injured_cyc"
   ]
  },
  {
   "cell_type": "code",
   "execution_count": 27,
   "id": "94333649-1768-47f3-8111-a9e9dc2ab5c9",
   "metadata": {},
   "outputs": [
    {
     "data": {
      "text/plain": [
       "Ano\n",
       "2024    63\n",
       "2023    59\n",
       "2022    40\n",
       "2021    39\n",
       "2025    29\n",
       "2020    27\n",
       "Name: count, dtype: int64"
      ]
     },
     "execution_count": 27,
     "metadata": {},
     "output_type": "execute_result"
    }
   ],
   "source": [
    "accidents_year_cyc = df['Ano'].value_counts()\n",
    "accidents_year_cyc"
   ]
  },
  {
   "cell_type": "code",
   "execution_count": 28,
   "id": "6e8a6fa2-503e-4bf9-971e-10130ab31794",
   "metadata": {},
   "outputs": [
    {
     "data": {
      "text/plain": [
       "Ano\n",
       "2020    1\n",
       "2021    0\n",
       "2022    1\n",
       "2023    1\n",
       "2024    0\n",
       "2025    0\n",
       "Name: MORTOS, dtype: int64"
      ]
     },
     "execution_count": 28,
     "metadata": {},
     "output_type": "execute_result"
    }
   ],
   "source": [
    "deaths_per_year_cyc = df_cyc.groupby('Ano')['MORTOS'].sum()\n",
    "deaths_per_year_cyc"
   ]
  },
  {
   "cell_type": "code",
   "execution_count": 45,
   "id": "164e9a39-c1a1-403b-a923-c5d744358473",
   "metadata": {},
   "outputs": [
    {
     "data": {
      "text/plain": [
       "np.int64(3)"
      ]
     },
     "execution_count": 45,
     "metadata": {},
     "output_type": "execute_result"
    }
   ],
   "source": [
    "deaths_cyc = df_cyc['MORTOS'].sum()\n",
    "deaths_cyc"
   ]
  },
  {
   "cell_type": "code",
   "execution_count": 41,
   "id": "0400e50f-a7a8-42f7-be9d-4bbf8d2e5201",
   "metadata": {},
   "outputs": [
    {
     "data": {
      "text/plain": [
       "LINHA\n",
       "603    16\n",
       "550    16\n",
       "303    11\n",
       "Name: count, dtype: int64"
      ]
     },
     "execution_count": 41,
     "metadata": {},
     "output_type": "execute_result"
    }
   ],
   "source": [
    "count_bus_lines_cyc = df_cyc['LINHA'].value_counts()\n",
    "count_bus_lines_cyc.head(3)"
   ]
  },
  {
   "cell_type": "code",
   "execution_count": 9,
   "id": "6a8c59e1-992d-4162-8a67-3f6d4eacc886",
   "metadata": {},
   "outputs": [
    {
     "data": {
      "text/plain": [
       "HORA_APENAS\n",
       "17    23\n",
       "07    22\n",
       "18    21\n",
       "16    16\n",
       "14    15\n",
       "13    14\n",
       "15    14\n",
       "19    13\n",
       "20    10\n",
       "12     9\n",
       "09     8\n",
       "06     7\n",
       "08     7\n",
       "10     6\n",
       "11     5\n",
       "21     5\n",
       "22     4\n",
       "05     2\n",
       "23     2\n",
       "00     1\n",
       "Name: count, dtype: int64"
      ]
     },
     "execution_count": 9,
     "metadata": {},
     "output_type": "execute_result"
    }
   ],
   "source": [
    "df_cyc['HORA_APENAS'] = df_cyc['HORA'].str.split(':').str[0]\n",
    "\n",
    "# Contar frequências das horas\n",
    "contagem_cyc = df_cyc['HORA_APENAS'].value_counts()\n",
    "contagem_cyc"
   ]
  }
 ],
 "metadata": {
  "kernelspec": {
   "display_name": "Python 3 (ipykernel)",
   "language": "python",
   "name": "python3"
  },
  "language_info": {
   "codemirror_mode": {
    "name": "ipython",
    "version": 3
   },
   "file_extension": ".py",
   "mimetype": "text/x-python",
   "name": "python",
   "nbconvert_exporter": "python",
   "pygments_lexer": "ipython3",
   "version": "3.12.0"
  }
 },
 "nbformat": 4,
 "nbformat_minor": 5
}
